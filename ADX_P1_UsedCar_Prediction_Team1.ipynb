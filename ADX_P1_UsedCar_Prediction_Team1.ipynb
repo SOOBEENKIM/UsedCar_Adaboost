{
  "nbformat": 4,
  "nbformat_minor": 0,
  "metadata": {
    "colab": {
      "provenance": []
    },
    "kernelspec": {
      "name": "python3",
      "display_name": "Python 3"
    }
  },
  "cells": [
    {
      "cell_type": "markdown",
      "metadata": {
        "id": "FCzqQv-lpXNK"
      },
      "source": [
        "# Project 1. 중고차 시세 예측\n",
        "**과목명:  응용데이터애널리틱스 (Applied Data Analytics)** \\\\\n",
        "**학수번호:  INE4108** \\\\\n",
        "**교강사:  송재욱 교수 (산업공학과)** \\\\\n",
        " \\\\\n",
        "***"
      ]
    },
    {
      "cell_type": "markdown",
      "metadata": {
        "id": "21F0poqDnriY"
      },
      "source": [
        "## P1-1. Environmental Set-up & Data Loading"
      ]
    },
    {
      "cell_type": "code",
      "metadata": {
        "id": "16gjgF_8nmu_",
        "colab": {
          "base_uri": "https://localhost:8080/"
        },
        "outputId": "be76ee61-f0a1-4e60-a9ff-34213a465a88"
      },
      "source": [
        "from google.colab import drive\n",
        "import pandas as pd\n",
        "\n",
        "drive.mount('/content/drive', force_remount=True)\n",
        "\n",
        "# enter the foldername in your Google Drive where you have saved the unzipped\n",
        "FOLDERNAME =  'ADX/'\n",
        "\n",
        "assert FOLDERNAME is not None, 'ERROR'\n",
        "\n",
        "%cd drive/My\\ Drive\n",
        "%cp -r $FOLDERNAME ../../\n",
        "\n",
        "# 한글 나눔포트 사용\n",
        "!sudo apt-get install -y fonts-nanum\n",
        "!sudo fc-cache -fv\n",
        "!rm ~/.cache/matplotlib -rf\n",
        "\n",
        "# 모델 수립을 위한 Train/Validation Set\n",
        "df = pd.read_csv('/content/drive/MyDrive/ADX/P1_dataset.csv', index_col=0, encoding ='cp949')  # 한글 Encoding 문제로 encoding = 'cp949'\n",
        "\n",
        "# 시스템 구현을 위한 Test Set 샘플\n",
        "df_test = pd.read_csv('/content/drive/MyDrive/ADX/P1_testset_sample.csv', index_col=0,encoding ='cp949')  # 한글 Encoding 문제로 encoding = 'cp949'"
      ],
      "execution_count": null,
      "outputs": [
        {
          "output_type": "stream",
          "name": "stdout",
          "text": [
            "Mounted at /content/drive\n",
            "[Errno 107] Transport endpoint is not connected: 'drive/My Drive'\n",
            "/content/drive/My Drive\n",
            "shell-init: error retrieving current directory: getcwd: cannot access parent directories: No such file or directory\n",
            "cp: failed to access '../../': Transport endpoint is not connected\n",
            "shell-init: error retrieving current directory: getcwd: cannot access parent directories: No such file or directory\n",
            "Reading package lists... Done\n",
            "Building dependency tree... Done\n",
            "Reading state information... Done\n",
            "fonts-nanum is already the newest version (20200506-1).\n",
            "0 upgraded, 0 newly installed, 0 to remove and 45 not upgraded.\n",
            "shell-init: error retrieving current directory: getcwd: cannot access parent directories: No such file or directory\n",
            "/usr/share/fonts: caching, new cache contents: 0 fonts, 1 dirs\n",
            "/usr/share/fonts/truetype: caching, new cache contents: 0 fonts, 3 dirs\n",
            "/usr/share/fonts/truetype/humor-sans: caching, new cache contents: 1 fonts, 0 dirs\n",
            "/usr/share/fonts/truetype/liberation: caching, new cache contents: 16 fonts, 0 dirs\n",
            "/usr/share/fonts/truetype/nanum: caching, new cache contents: 12 fonts, 0 dirs\n",
            "/usr/local/share/fonts: caching, new cache contents: 0 fonts, 0 dirs\n",
            "/root/.local/share/fonts: skipping, no such directory\n",
            "/root/.fonts: skipping, no such directory\n",
            "/usr/share/fonts/truetype: skipping, looped directory detected\n",
            "/usr/share/fonts/truetype/humor-sans: skipping, looped directory detected\n",
            "/usr/share/fonts/truetype/liberation: skipping, looped directory detected\n",
            "/usr/share/fonts/truetype/nanum: skipping, looped directory detected\n",
            "/var/cache/fontconfig: cleaning cache directory\n",
            "/root/.cache/fontconfig: not cleaning non-existent cache directory\n",
            "/root/.fontconfig: not cleaning non-existent cache directory\n",
            "fc-cache: succeeded\n",
            "shell-init: error retrieving current directory: getcwd: cannot access parent directories: No such file or directory\n"
          ]
        }
      ]
    },
    {
      "cell_type": "markdown",
      "metadata": {
        "id": "rv3tA_28ovjx"
      },
      "source": [
        "## P1-2. Modelling\n",
        "- df를 사용하여 예측모형 수립\n",
        "- 상세 사항은 업로드 된 비디오 참고"
      ]
    },
    {
      "cell_type": "code",
      "metadata": {
        "id": "spT12uzMnm_G"
      },
      "source": [
        "#%%\n",
        "import numpy as np\n",
        "import pandas as pd\n",
        "import matplotlib.pyplot as plt\n",
        "from scipy.stats.mstats import winsorize\n",
        "from sklearn.preprocessing import StandardScaler\n",
        "from sklearn.model_selection import train_test_split\n",
        "from sklearn.preprocessing import OrdinalEncoder, LabelEncoder, OneHotEncoder\n",
        "from sklearn.tree import DecisionTreeRegressor\n",
        "from sklearn.ensemble import AdaBoostRegressor, RandomForestRegressor\n",
        "from sklearn.metrics import mean_squared_error, mean_absolute_error, r2_score\n",
        "\n",
        "plt.rcParams['figure.figsize'] = (10.0, 8.0)\n",
        "plt.rcParams['image.interpolation'] = 'nearest'\n",
        "plt.rcParams['image.cmap'] = 'gray'\n",
        "plt.rc('font', family='GULIM')"
      ],
      "execution_count": null,
      "outputs": []
    },
    {
      "cell_type": "markdown",
      "source": [
        "# General Preprocessing"
      ],
      "metadata": {
        "id": "YiwtaWQa_ZaJ"
      }
    },
    {
      "cell_type": "code",
      "source": [
        "target = ['SUCCPRIC']\n",
        "\n",
        "ETC_list = ['SUCCYMD', 'CARNM', 'CHASNO', 'CARREGIYMD', 'YEAR']\n",
        "\n",
        "continous_list = ['EXHA', 'TRAVDIST']\n",
        "\n",
        "price_list = ['NEWCARPRIC', 'SHIPPING_PRICE', 'NC_GRADE_PRICE']\n",
        "\n",
        "discrete_list = ['MISSNM', 'FUELNM', 'COLOR', 'USEUSENM', 'OWNECLASNM', 'INNEEXPOCLASCD_YN']\n",
        "\n",
        "key_list = ['MF_KEY', 'MJ_MODEL_KEY', 'DT_MODEL_KEY', 'MJ_GRADE_KEY', 'DT_GRADE_KEY', 'NC_GRADE_KEY']\n",
        "\n",
        "one_hot_list = ['YEARCHK', 'BONET', 'FRONT_LEFT_FENDER', 'FRONT_RIGHT_FENDER', 'FRONT_LEFT_DOOR', 'FRONT_RIGHT_DOOR',\n",
        "                'BACK_LEFT_DOOR', 'BACK_RIGHT_DOOR', 'TRUNK', 'FRONT_PANNEL', 'LEFT_STEP', 'RIGHT_STEP',\n",
        "                'LEFT_FILER_A', 'RIGHT_FILER_A', 'LEFT_FILER_B', 'RIGHT_FILER_B', 'LEFT_FILER_C',\n",
        "                'RIGHT_FILER_C', 'LEFT_REAR_FENDER', 'RIGHT_REAR_FENDER', 'BACK_PANEL1', 'LEFT_INSIDE_PANEL',\n",
        "                'RIGHT_INSIDE_PANEL', 'LEFT_WHEEL_HOUSE', 'RIGHT_WHEEL_HOUSE', 'LEFT_INSIDE_WHEEL_HOUSE',\n",
        "                'RIGHT_INSIDE_WHEEL_HOUSE', 'LEFT_REAR_WHEEL_HOUSE', 'RIGHT_REAR_WHEEL_HOUSE', 'TRUNK_FLOOR',\n",
        "                'DASH_PANEL', 'SHEET_PANEL', 'SIDE_MEMBER_FRAME', 'LEFT_QUARTER', 'RIGHT_QUARTER',\n",
        "                'FLOOR_PANEL', 'LEFT_SIDE_PANEL', 'RIGHT_SIDE_PANEL', 'LEFT_REAR_CORNER_PANEL',\n",
        "                'RIGHT_REAR_CORNER_PANEL', 'BACK_PANEL2', 'LEFT_CORNER_PANEL', 'RIGHT_CORNER_PANEL',\n",
        "                'LEFT_SKIRT_PANEL', 'RIGHT_SKIRT_PANEL', 'SIDE_MEMBER_FRAME2', 'LEFT_INSIDE_SHEETING',\n",
        "                'RIGHT_INSIDE_SHEETING', 'LEFT_WHEEL_HOUSE_SHEETING', 'RIGHT_WHEEL_HOUSE_SHEETING',\n",
        "                'LEFT_REAR_INSIDE_PANEL_SHEETING', 'RIGHT_REAR_INSIDE_PANEL_SHEETING',\n",
        "                'LEFT_REAR_WHEEL_HOUSE_SHEETING', 'RIGHT_REAR_WHEEL_HOUSE_SHEETING', 'TRUNK_FLOOR_SHEETING',\n",
        "                'DASH_PANEL_SHEETING', 'SHEET_BACK_PANEL_SHEETING', 'SIDE_MEMBER_FRAME_SHEETING',\n",
        "                'FLOOR_PANEL_SHEETING', 'LEFT_SIDE_PANEL_SHEETING', 'RIGHT_SIDE_PANEL_SHEETING',\n",
        "                'FLOODING', 'TOTAL_LOSS', 'JOINCAR', 'NOTAVAILABLE', 'ABS', 'AB2', 'NAVIGATION', 'VDC', 'SMARTKEY',\n",
        "                'SUNLOOPPANORAMA', 'SUNLOOPCOMMON', 'SUNLOOPDUAL', 'DIS', 'TCS', 'AB1', 'ETC', 'AV', 'EPS', 'ECS']"
      ],
      "metadata": {
        "id": "bgoHTGnX_jEn"
      },
      "execution_count": null,
      "outputs": []
    },
    {
      "cell_type": "markdown",
      "source": [
        "# Train Test 분리"
      ],
      "metadata": {
        "id": "zS9sV_AU_ueA"
      }
    },
    {
      "cell_type": "code",
      "source": [
        "train, test = train_test_split(df, test_size=0.2, random_state=42, shuffle=True)"
      ],
      "metadata": {
        "id": "eVhBMdUU_uG4"
      },
      "execution_count": null,
      "outputs": []
    },
    {
      "cell_type": "markdown",
      "source": [
        "# Train 이산형 결측치처리 파트"
      ],
      "metadata": {
        "id": "Wia8rA5w_0lQ"
      }
    },
    {
      "cell_type": "code",
      "source": [
        "# train에 대해 먼저 전처리\n",
        "df_1 = train.copy()\n",
        "df_1 = df_1.drop(df_1[df_1['FUELNM'].isna() == True].index)\n",
        "df_1 = df_1.drop(df_1[df_1['OWNECLASNM'].isna() == True].index)\n",
        "df_1 = df_1.drop(df_1[df_1['CARREGIYMD'].isna() == True].index)\n",
        "\n",
        "# df_1.loc[df_1['OWNECLASNM'].isna(), 'OWNECLASNM'] = '기타'\n",
        "condition = (df_1['OWNECLASNM'] == '개인') & (df_1['USEUSENM'].isna())\n",
        "df_1.loc[condition, 'USEUSENM'] = '자가'\n",
        "df_1.loc[df_1['USEUSENM'].isna(), 'USEUSENM'] = '기타'"
      ],
      "metadata": {
        "id": "GAD3SRbc_6hJ"
      },
      "execution_count": null,
      "outputs": []
    },
    {
      "cell_type": "markdown",
      "source": [
        "# Train 연속형 결측치처리 파트"
      ],
      "metadata": {
        "id": "B8pvq9Yb_-L_"
      }
    },
    {
      "cell_type": "code",
      "source": [
        "df_1['NEWCARPRIC'] = df_1['NEWCARPRIC'].replace(0, np.nan)\n",
        "df_1['NEWCARPRIC'] = df_1['NEWCARPRIC'].replace(1, np.nan)\n",
        "df_1['NEWCARPRIC'] = df_1['NEWCARPRIC'].apply(lambda x: np.nan if x < 1000 else x)"
      ],
      "metadata": {
        "id": "Th1qj2FrAAy-"
      },
      "execution_count": null,
      "outputs": []
    },
    {
      "cell_type": "code",
      "source": [
        "model = df_1['MJ_MODEL_KEY'].astype(str)+\"-\"+df_1['DT_MODEL_KEY'].astype(str)\n",
        "df_1.insert(15, 'MODEL', model)\n",
        "# 모델 별 평균 가격\n",
        "price_model = df_1.groupby('MODEL')['NEWCARPRIC'].median()\n",
        "price_model2 = df_1.groupby('MODEL')['SHIPPING_PRICE'].median()\n",
        "price_model3 = df_1.groupby('MODEL')['NC_GRADE_PRICE'].median()\n",
        "\n",
        "price_model = dict(price_model)\n",
        "df_1['NEWCARPRIC'] = df_1['NEWCARPRIC'].fillna(df_1.MODEL.map(price_model))\n",
        "price_model2 = dict(price_model2)\n",
        "df_1['SHIPPING_PRICE'] = df_1['SHIPPING_PRICE'].fillna(df_1.MODEL.map(price_model2))\n",
        "price_model3 = dict(price_model3)\n",
        "df_1['NC_GRADE_PRICE'] = df_1['NC_GRADE_PRICE'].fillna(df_1.MODEL.map(price_model3))"
      ],
      "metadata": {
        "id": "pTQKZxHrACNr"
      },
      "execution_count": null,
      "outputs": []
    },
    {
      "cell_type": "code",
      "source": [
        "for price in price_list:\n",
        "    mode = df_1[price].mode()[0]\n",
        "    df_1[price] = df_1[price].fillna(mode)"
      ],
      "metadata": {
        "id": "xeXGtjHBAEw2"
      },
      "execution_count": null,
      "outputs": []
    },
    {
      "cell_type": "markdown",
      "source": [
        "# Train 이상치제거 파트"
      ],
      "metadata": {
        "id": "sTLs9x1UAIZ5"
      }
    },
    {
      "cell_type": "code",
      "source": [
        "df_2 = df_1.copy()\n",
        "df_2['NEWCARPRIC'] = winsorize(df_2['NEWCARPRIC'], limits=[0.001, 0.001])"
      ],
      "metadata": {
        "id": "IBWQFqJtAKGt"
      },
      "execution_count": null,
      "outputs": []
    },
    {
      "cell_type": "markdown",
      "source": [
        "# Train 파생변수 파트"
      ],
      "metadata": {
        "id": "b1EhQYfqAO9t"
      }
    },
    {
      "cell_type": "code",
      "source": [
        "df_3 = df_2.copy()\n",
        "\n",
        "# SUCCYMD(낙찰일자) - CARREGIYMD(차량등록일) 을 새로운 변수 Days로 저장\n",
        "df_3['SUCCYMD'] = pd.to_datetime(df_3['SUCCYMD'], format='%Y%m%d')\n",
        "df_3['CARREGIYMD'] = pd.to_datetime(df_3['CARREGIYMD'], format='%Y%m%d')\n",
        "df_3['Days'] = (df_3['SUCCYMD'] - df_3['CARREGIYMD']).dt.days.astype(int)"
      ],
      "metadata": {
        "id": "JqISu5w1AQJh"
      },
      "execution_count": null,
      "outputs": []
    },
    {
      "cell_type": "code",
      "source": [
        "outer_frame = [\n",
        "    'BONET', 'FRONT_LEFT_FENDER', 'FRONT_RIGHT_FENDER', 'FRONT_LEFT_DOOR', 'FRONT_RIGHT_DOOR',\n",
        "    'BACK_LEFT_DOOR', 'BACK_RIGHT_DOOR', 'TRUNK', 'FRONT_PANNEL', 'LEFT_STEP', 'RIGHT_STEP',\n",
        "    'LEFT_FILER_A', 'RIGHT_FILER_A', 'LEFT_FILER_B', 'RIGHT_FILER_B', 'LEFT_FILER_C', 'RIGHT_FILER_C',\n",
        "    'LEFT_REAR_FENDER', 'RIGHT_REAR_FENDER', 'BACK_PANEL1', 'LEFT_QUARTER', 'RIGHT_QUARTER',\n",
        "    'BACK_PANEL2', 'LEFT_CORNER_PANEL', 'RIGHT_CORNER_PANEL', 'LEFT_SKIRT_PANEL', 'RIGHT_SKIRT_PANEL'\n",
        "]\n",
        "\n",
        "# Outer_frame에 해당하는 값이 1이 하나라도 있으면 1, 없으면 0으로 설정\n",
        "df_3['Accident'] = df_3[outer_frame].max(axis=1)"
      ],
      "metadata": {
        "id": "Fv7IIprJARfZ"
      },
      "execution_count": null,
      "outputs": []
    },
    {
      "cell_type": "code",
      "source": [
        "##사고 유형 분류\n",
        "# 외판부위 1랭크\n",
        "outer_panels_rank1 = ['BONET', 'FRONT_LEFT_FENDER', 'FRONT_RIGHT_FENDER', 'FRONT_LEFT_DOOR', 'FRONT_RIGHT_DOOR',\n",
        "                      'BACK_LEFT_DOOR', 'BACK_RIGHT_DOOR', 'TRUNK', 'FRONT_PANNEL']\n",
        "\n",
        "# 외판부위 2랭크\n",
        "outer_panels_rank2 = ['LEFT_REAR_FENDER', 'RIGHT_REAR_FENDER', 'LEFT_QUARTER', 'RIGHT_QUARTER']\n",
        "\n",
        "# 주요골격 A랭크\n",
        "main_frame_rankA = ['FRONT_PANNEL', 'TRUNK_FLOOR', 'LEFT_INSIDE_PANEL', 'RIGHT_INSIDE_PANEL']\n",
        "\n",
        "# 주요골격 B랭크\n",
        "main_frame_rankB = ['SIDE_MEMBER_FRAME', 'LEFT_WHEEL_HOUSE', 'RIGHT_WHEEL_HOUSE', 'LEFT_FILER_A', 'RIGHT_FILER_A',\n",
        "                    'LEFT_FILER_B', 'RIGHT_FILER_B', 'LEFT_FILER_C', 'RIGHT_FILER_C']\n",
        "\n",
        "# 주요골격 C랭크\n",
        "main_frame_rankC = ['DASH_PANEL', 'FLOOR_PANEL']\n",
        "\n",
        "# 외판, 골격 세분화\n",
        "df_3['outer_1'] = df_3[outer_panels_rank1].sum(axis=1)\n",
        "df_3['outer_2'] = df_3[outer_panels_rank2].sum(axis=1)\n",
        "df_3['main_A'] = df_3[main_frame_rankA].sum(axis=1)\n",
        "df_3['main_B'] = df_3[main_frame_rankB].sum(axis=1)\n",
        "df_3['main_C'] = df_3[main_frame_rankC].sum(axis=1)"
      ],
      "metadata": {
        "id": "5qhB9NBVATKO"
      },
      "execution_count": null,
      "outputs": []
    },
    {
      "cell_type": "code",
      "source": [
        "selected_columns = ['MJ_GRADE_KEY', 'DT_GRADE_KEY', 'NC_GRADE_KEY']\n",
        "\n",
        "for col in selected_columns:\n",
        "    # 'SUCCPRIC'의 평균을 계산하여 새로운 열 생성\n",
        "    mean_suuccpric_by_col = df_3.groupby(col)['SUCCPRIC'].mean().reset_index()\n",
        "    mean_suuccpric_by_col.columns = [col, f'SUCCPRIC_MEAN_{col}']\n",
        "\n",
        "    # 각 열을 기준으로 평균값을 매핑하여 원래 데이터프레임에 추가\n",
        "    df_3 = pd.merge(df_3, mean_suuccpric_by_col, on=col, how='left')\n",
        "\n",
        "# 구간을 정의하고 각 카테고리를 구간에 따라 인코딩\n",
        "bins = [0, 12000000, 24000000, 36000000, 48000000, np.inf]\n",
        "labels_MJ = [0, 1, 2, 3, 4]\n",
        "df_3['SUCCPRIC_MEAN_MJ_GRADE_KEY'] = pd.cut(df_3['SUCCPRIC_MEAN_MJ_GRADE_KEY'], bins=bins, labels=labels_MJ)\n",
        "labels_DT = [0, 1, 2, 3, 4]\n",
        "df_3['SUCCPRIC_MEAN_DT_GRADE_KEY'] = pd.cut(df_3['SUCCPRIC_MEAN_DT_GRADE_KEY'], bins=bins, labels=labels_DT)\n",
        "labels_NC = [0, 1, 2, 3, 4]\n",
        "df_3['SUCCPRIC_MEAN_NC_GRADE_KEY'] = pd.cut(df_3['SUCCPRIC_MEAN_NC_GRADE_KEY'], bins=bins, labels=labels_NC)"
      ],
      "metadata": {
        "id": "G6fzbGEUAUrm"
      },
      "execution_count": null,
      "outputs": []
    },
    {
      "cell_type": "markdown",
      "source": [
        "# Train 범주형인코딩 파트"
      ],
      "metadata": {
        "id": "bE3SR5KrAWgP"
      }
    },
    {
      "cell_type": "code",
      "source": [
        "df_4 = df_3.copy()\n",
        "\n",
        "selected_columns = ['FUELNM', 'USEUSENM', 'OWNECLASNM']\n",
        "label_encoders = {}\n",
        "for column in selected_columns:\n",
        "    le = LabelEncoder()\n",
        "    df_4[column] = le.fit_transform(df_4[column])\n",
        "    label_encoders[column] = le\n",
        "\n",
        "onehot_list = ['YEARCHK', 'INNEEXPOCLASCD_YN']\n",
        "df_4 = pd.get_dummies(df_4, columns=onehot_list)\n",
        "\n",
        "missnm_order = ['M/T', 'CVT', 'A/T']\n",
        "encoder = OrdinalEncoder(categories=[missnm_order])\n",
        "df_4['MISSNM'] = encoder.fit_transform(df_4[['MISSNM']])\n",
        "\n",
        "color_order = ['B', 'C', 'A', 'D', 'F']\n",
        "encoder = OrdinalEncoder(categories=[color_order])\n",
        "df_4['COLOR'] = encoder.fit_transform(df_4[['COLOR']])\n",
        "\n",
        "df_4 = df_4.drop(columns=['SUCCYMD', 'CARNM', 'CHASNO', 'CARREGIYMD', 'YEAR', 'MODEL'])"
      ],
      "metadata": {
        "id": "hzOqUD7LAXoo"
      },
      "execution_count": null,
      "outputs": []
    },
    {
      "cell_type": "code",
      "source": [
        "df_4['FRONT_FENDER'] = df_4['FRONT_LEFT_FENDER'] + df_4['FRONT_RIGHT_FENDER']\n",
        "df_4['FRONT_DOOR'] = df_4['FRONT_LEFT_DOOR'] + df_4['FRONT_RIGHT_DOOR']\n",
        "df_4['BACK_DOOR'] = df_4['FRONT_LEFT_DOOR'] + df_4['FRONT_RIGHT_DOOR']\n",
        "df_4 = df_4.drop(['FRONT_LEFT_FENDER', 'FRONT_RIGHT_FENDER', 'FRONT_LEFT_DOOR', 'FRONT_RIGHT_DOOR', 'BACK_LEFT_DOOR',\n",
        "                  'BACK_RIGHT_DOOR'], axis=1)\n",
        "\n",
        "new_one_hot_list = ['SKIRT_PANEL', 'REAR_INSIDE_PANEL_SHEETING', 'STEP', 'FILER_A', 'WHEEL_HOUSE',\n",
        "                    'SIDE_PANEL_SHEETING',\n",
        "                    'INSIDE_SHEETING', 'REAR_WHEEL_HOUSE_SHEETING', 'QUARTER', 'INSIDE_WHEEL_HOUSE', 'REAR_WHEEL_HOUSE',\n",
        "                    'WHEEL_HOUSE_SHEETING', 'REAR_CORNER_PANEL', 'FILER_B', 'FILER_C', 'CORNER_PANEL', 'REAR_FENDER',\n",
        "                    'INSIDE_PANEL', 'SIDE_PANEL']\n",
        "\n",
        "for item in new_one_hot_list:\n",
        "    left_col = f'LEFT_{item}'\n",
        "    right_col = f'RIGHT_{item}'\n",
        "    new_col_name = item\n",
        "\n",
        "    df_4[new_col_name] = df_4[left_col] + df_4[right_col]\n",
        "    df_4 = df_4.drop([left_col, right_col], axis=1)\n",
        "\n",
        "# df_4[new_one_hot_list][df_4[new_one_hot_list]==2]=1"
      ],
      "metadata": {
        "id": "UhWCB4BXAY2J"
      },
      "execution_count": null,
      "outputs": []
    },
    {
      "cell_type": "code",
      "source": [
        "to_list=['SUCCPRIC_MEAN_MJ_GRADE_KEY','SUCCPRIC_MEAN_DT_GRADE_KEY','SUCCPRIC_MEAN_NC_GRADE_KEY']\n",
        "for col in to_list:\n",
        "    df_4[col]=df_4[col].astype(int)"
      ],
      "metadata": {
        "id": "q4TronGOqcEZ"
      },
      "execution_count": null,
      "outputs": []
    },
    {
      "cell_type": "code",
      "source": [
        "def map_bool_to_int(value):\n",
        "    return int(value)\n",
        "\n",
        "\n",
        "for column in df_4.columns:\n",
        "    if df_4[column].dtype == bool:\n",
        "        df_4[column] = df_4[column].map(map_bool_to_int)\n",
        "\n",
        "X = df_4.drop(columns='SUCCPRIC')\n",
        "y = df_4['SUCCPRIC']"
      ],
      "metadata": {
        "id": "tnzonsL5AbIK"
      },
      "execution_count": null,
      "outputs": []
    },
    {
      "cell_type": "markdown",
      "source": [
        "# Train 연속형변수 분포저장"
      ],
      "metadata": {
        "id": "9nM6iWjqAcnZ"
      }
    },
    {
      "cell_type": "code",
      "source": [
        "X_train, X_val, y_train, y_val = train_test_split(X, y, test_size=0.2)"
      ],
      "metadata": {
        "id": "hFddPofGAeI3"
      },
      "execution_count": null,
      "outputs": []
    },
    {
      "cell_type": "code",
      "source": [
        "def standard_scale_train(train_data, feature_names):\n",
        "    \"\"\"\n",
        "    특정 feature들에 대해 Z 정규화를 수행하는 함수, sklearn의 StandardScaler 사용\n",
        "    :param train_data: 훈련 데이터셋 (DataFrame)\n",
        "    :param feature_names: 정규화를 수행할 특성들의 리스트\n",
        "    :return: 정규화된 훈련 데이터셋, 훈련된 StandardScaler 객체\n",
        "    \"\"\"\n",
        "    scaler = StandardScaler()\n",
        "    train_data_scaled = train_data.copy()\n",
        "    train_data_scaled[feature_names] = scaler.fit_transform(train_data[feature_names])\n",
        "    return train_data_scaled, scaler\n",
        "\n",
        "\n",
        "def standard_scale_val(X_val, feature_names, scaler):\n",
        "    \"\"\"\n",
        "    validation set을 특정 feature들에 대해 Z 정규화하는 함수, sklearn의 StandardScaler 사용\n",
        "    :param X_val: validation set (DataFrame)\n",
        "    :param feature_names: 정규화를 수행할 특성들의 리스트\n",
        "    :param scaler: 훈련 데이터셋에 대해 훈련된 StandardScaler 객체\n",
        "    :return: 정규화된 validation set\n",
        "    \"\"\"\n",
        "    X_val_scaled = X_val.copy()\n",
        "    X_val_scaled[feature_names] = scaler.transform(X_val[feature_names])\n",
        "    return X_val_scaled"
      ],
      "metadata": {
        "id": "fEIrKLizAf3s"
      },
      "execution_count": null,
      "outputs": []
    },
    {
      "cell_type": "code",
      "source": [
        "# # 위 block에서 만들어진 z_normalize와 z_normalize_val 적용 (Error 날 경우 다시 고민할 것)\n",
        "X_train_norm = X_train.copy()\n",
        "X_train_norm.loc[:, continous_list + price_list], scaler = standard_scale_train(X_train, continous_list + price_list)\n",
        "X_val_norm = X_val.copy()\n",
        "X_val_norm.loc[:, continous_list + price_list] = standard_scale_val(X_val, continous_list + price_list, scaler)"
      ],
      "metadata": {
        "id": "c2RjWIwUAhWU"
      },
      "execution_count": null,
      "outputs": []
    },
    {
      "cell_type": "markdown",
      "source": [
        "# 전처리 성능체크"
      ],
      "metadata": {
        "id": "9jR8OiIbAjHX"
      }
    },
    {
      "cell_type": "code",
      "source": [
        "model_dt = DecisionTreeRegressor(random_state=42)\n",
        "model_dt.fit(X_train_norm, y_train)\n",
        "dt_pred = model_dt.predict(X_val_norm)\n",
        "mse = mean_squared_error(y_val, dt_pred)\n",
        "mae = mean_absolute_error(y_val, dt_pred)\n",
        "r2 = r2_score(y_val, dt_pred)\n",
        "print('DT')\n",
        "print(f'MSE: {mse}')\n",
        "print(f'MAE: {mae}')\n",
        "print(f'R^2: {r2}')"
      ],
      "metadata": {
        "colab": {
          "base_uri": "https://localhost:8080/"
        },
        "id": "ZM5NI_7LAkqK",
        "outputId": "6fd969e8-2992-47b7-9221-da155e335f4a"
      },
      "execution_count": null,
      "outputs": [
        {
          "output_type": "stream",
          "name": "stdout",
          "text": [
            "DT\n",
            "MSE: 1703069124893.7979\n",
            "MAE: 848265.0807136788\n",
            "R^2: 0.9608366084256332\n"
          ]
        }
      ]
    },
    {
      "cell_type": "markdown",
      "source": [
        "# 모델 훈련 파트"
      ],
      "metadata": {
        "id": "jSj34JQ9AoOq"
      }
    },
    {
      "cell_type": "code",
      "source": [
        "best_dt = None\n",
        "best_dt_mse = 1e20\n",
        "best_dt_hyperparameter = None\n",
        "max_depths = [30, 40, 50]\n",
        "max_features = [0.3, 0.5, 0.7]\n",
        "\n",
        "i = 0\n",
        "for depth in max_depths:\n",
        "    i += 1\n",
        "    print(i)\n",
        "    for feature in max_features:\n",
        "      dt = DecisionTreeRegressor(max_depth=depth, random_state=42, max_features=feature)\n",
        "      dt.fit(X_train_norm, y_train)\n",
        "      y_pred = dt.predict(X_val_norm)\n",
        "      mse = mean_squared_error(y_val, y_pred)\n",
        "\n",
        "      best_dt=dt\n",
        "\n",
        "      # 최적의 모델인지 확인\n",
        "      if mse < best_dt_mse:\n",
        "          best_dt = dt\n",
        "          best_dt_mse = mse\n",
        "          best_dt_hyperparameter = {'max_depth': depth, 'max_features': feature}\n",
        "\n",
        "# 해당 hyperparameter 출력\n",
        "print(\"Best Hyperparameters for Decision Tree with Hyperparameters: \", best_dt_hyperparameter)\n",
        "print(\"Best MSE for Decision Tree with Hyperparameters: \", best_dt_mse)\n",
        "\n",
        "# Regression 결과 시각화\n",
        "y_pred = best_dt.predict(X_val_norm)\n",
        "\n",
        "plt.figure(figsize=(8, 6))\n",
        "plt.scatter(y_val, y_pred, color='blue', label='Predictions')\n",
        "plt.plot([min(y_val), max(y_val)], [min(y_val), max(y_val)], color='red', linestyle='--', linewidth=2,\n",
        "         label='Perfect Fit')\n",
        "plt.xlabel('Actual Values')\n",
        "plt.ylabel('Predicted Values')\n",
        "plt.title('Decision Tree Regression')\n",
        "plt.legend()\n",
        "plt.show()"
      ],
      "metadata": {
        "colab": {
          "base_uri": "https://localhost:8080/",
          "height": 1000
        },
        "id": "3s89O9SpApGk",
        "outputId": "aa92a740-6ae8-41e9-af3f-372e0768e24b"
      },
      "execution_count": null,
      "outputs": [
        {
          "output_type": "stream",
          "name": "stdout",
          "text": [
            "1\n",
            "2\n",
            "3\n"
          ]
        },
        {
          "output_type": "stream",
          "name": "stderr",
          "text": [
            "WARNING:matplotlib.font_manager:findfont: Font family 'GULIM' not found.\n",
            "WARNING:matplotlib.font_manager:findfont: Font family 'GULIM' not found.\n",
            "WARNING:matplotlib.font_manager:findfont: Font family 'GULIM' not found.\n",
            "WARNING:matplotlib.font_manager:findfont: Font family 'GULIM' not found.\n",
            "WARNING:matplotlib.font_manager:findfont: Font family 'GULIM' not found.\n",
            "WARNING:matplotlib.font_manager:findfont: Font family 'GULIM' not found.\n",
            "WARNING:matplotlib.font_manager:findfont: Font family 'GULIM' not found.\n",
            "WARNING:matplotlib.font_manager:findfont: Font family 'GULIM' not found.\n",
            "WARNING:matplotlib.font_manager:findfont: Font family 'GULIM' not found.\n",
            "WARNING:matplotlib.font_manager:findfont: Font family 'GULIM' not found.\n",
            "WARNING:matplotlib.font_manager:findfont: Font family 'GULIM' not found.\n",
            "WARNING:matplotlib.font_manager:findfont: Font family 'GULIM' not found.\n"
          ]
        },
        {
          "output_type": "stream",
          "name": "stdout",
          "text": [
            "Best Hyperparameters for Decision Tree with Hyperparameters:  {'max_depth': 30, 'max_features': 0.7}\n",
            "Best MSE for Decision Tree with Hyperparameters:  1654990157117.3228\n"
          ]
        },
        {
          "output_type": "stream",
          "name": "stderr",
          "text": [
            "WARNING:matplotlib.font_manager:findfont: Font family 'GULIM' not found.\n",
            "WARNING:matplotlib.font_manager:findfont: Font family 'GULIM' not found.\n",
            "WARNING:matplotlib.font_manager:findfont: Font family 'GULIM' not found.\n",
            "WARNING:matplotlib.font_manager:findfont: Font family 'GULIM' not found.\n",
            "WARNING:matplotlib.font_manager:findfont: Font family 'GULIM' not found.\n",
            "WARNING:matplotlib.font_manager:findfont: Font family 'GULIM' not found.\n",
            "WARNING:matplotlib.font_manager:findfont: Font family 'GULIM' not found.\n",
            "WARNING:matplotlib.font_manager:findfont: Font family 'GULIM' not found.\n",
            "WARNING:matplotlib.font_manager:findfont: Font family 'GULIM' not found.\n",
            "WARNING:matplotlib.font_manager:findfont: Font family 'GULIM' not found.\n",
            "WARNING:matplotlib.font_manager:findfont: Font family 'GULIM' not found.\n",
            "WARNING:matplotlib.font_manager:findfont: Font family 'GULIM' not found.\n",
            "WARNING:matplotlib.font_manager:findfont: Font family 'GULIM' not found.\n",
            "WARNING:matplotlib.font_manager:findfont: Font family 'GULIM' not found.\n",
            "WARNING:matplotlib.font_manager:findfont: Font family 'GULIM' not found.\n",
            "WARNING:matplotlib.font_manager:findfont: Font family 'GULIM' not found.\n",
            "WARNING:matplotlib.font_manager:findfont: Font family 'GULIM' not found.\n",
            "WARNING:matplotlib.font_manager:findfont: Font family 'GULIM' not found.\n",
            "WARNING:matplotlib.font_manager:findfont: Font family 'GULIM' not found.\n",
            "WARNING:matplotlib.font_manager:findfont: Font family 'GULIM' not found.\n",
            "WARNING:matplotlib.font_manager:findfont: Font family 'GULIM' not found.\n",
            "WARNING:matplotlib.font_manager:findfont: Font family 'GULIM' not found.\n",
            "WARNING:matplotlib.font_manager:findfont: Font family 'GULIM' not found.\n",
            "WARNING:matplotlib.font_manager:findfont: Font family 'GULIM' not found.\n",
            "WARNING:matplotlib.font_manager:findfont: Font family 'GULIM' not found.\n",
            "WARNING:matplotlib.font_manager:findfont: Font family 'GULIM' not found.\n",
            "WARNING:matplotlib.font_manager:findfont: Font family 'GULIM' not found.\n",
            "WARNING:matplotlib.font_manager:findfont: Font family 'GULIM' not found.\n",
            "WARNING:matplotlib.font_manager:findfont: Font family 'GULIM' not found.\n",
            "WARNING:matplotlib.font_manager:findfont: Font family 'GULIM' not found.\n",
            "WARNING:matplotlib.font_manager:findfont: Font family 'GULIM' not found.\n",
            "WARNING:matplotlib.font_manager:findfont: Font family 'GULIM' not found.\n",
            "WARNING:matplotlib.font_manager:findfont: Font family 'GULIM' not found.\n",
            "WARNING:matplotlib.font_manager:findfont: Font family 'GULIM' not found.\n",
            "WARNING:matplotlib.font_manager:findfont: Font family 'GULIM' not found.\n",
            "WARNING:matplotlib.font_manager:findfont: Font family 'GULIM' not found.\n",
            "WARNING:matplotlib.font_manager:findfont: Font family 'GULIM' not found.\n",
            "WARNING:matplotlib.font_manager:findfont: Font family 'GULIM' not found.\n",
            "WARNING:matplotlib.font_manager:findfont: Font family 'GULIM' not found.\n",
            "WARNING:matplotlib.font_manager:findfont: Font family 'GULIM' not found.\n",
            "WARNING:matplotlib.font_manager:findfont: Font family 'GULIM' not found.\n",
            "WARNING:matplotlib.font_manager:findfont: Font family 'GULIM' not found.\n",
            "WARNING:matplotlib.font_manager:findfont: Font family 'GULIM' not found.\n",
            "WARNING:matplotlib.font_manager:findfont: Font family 'GULIM' not found.\n",
            "WARNING:matplotlib.font_manager:findfont: Font family 'GULIM' not found.\n",
            "WARNING:matplotlib.font_manager:findfont: Font family 'GULIM' not found.\n",
            "WARNING:matplotlib.font_manager:findfont: Font family 'GULIM' not found.\n",
            "WARNING:matplotlib.font_manager:findfont: Font family 'GULIM' not found.\n",
            "WARNING:matplotlib.font_manager:findfont: Font family 'GULIM' not found.\n",
            "WARNING:matplotlib.font_manager:findfont: Font family 'GULIM' not found.\n",
            "WARNING:matplotlib.font_manager:findfont: Font family 'GULIM' not found.\n",
            "WARNING:matplotlib.font_manager:findfont: Font family 'GULIM' not found.\n",
            "WARNING:matplotlib.font_manager:findfont: Font family 'GULIM' not found.\n",
            "WARNING:matplotlib.font_manager:findfont: Font family 'GULIM' not found.\n",
            "WARNING:matplotlib.font_manager:findfont: Font family 'GULIM' not found.\n",
            "WARNING:matplotlib.font_manager:findfont: Font family 'GULIM' not found.\n",
            "WARNING:matplotlib.font_manager:findfont: Font family 'GULIM' not found.\n",
            "WARNING:matplotlib.font_manager:findfont: Font family 'GULIM' not found.\n",
            "WARNING:matplotlib.font_manager:findfont: Font family 'GULIM' not found.\n",
            "WARNING:matplotlib.font_manager:findfont: Font family 'GULIM' not found.\n",
            "WARNING:matplotlib.font_manager:findfont: Font family 'GULIM' not found.\n",
            "WARNING:matplotlib.font_manager:findfont: Font family 'GULIM' not found.\n",
            "WARNING:matplotlib.font_manager:findfont: Font family 'GULIM' not found.\n",
            "WARNING:matplotlib.font_manager:findfont: Font family 'GULIM' not found.\n"
          ]
        },
        {
          "output_type": "display_data",
          "data": {
            "text/plain": [
              "<Figure size 800x600 with 1 Axes>"
            ],
            "image/png": "[encoded data removed]"
          },
          "metadata": {}
        }
      ]
    },
    {
      "cell_type": "code",
      "source": [
        "best_rf = None\n",
        "best_rf_mse = 1e20\n",
        "best_rf_hyperparameter = None\n",
        "n_estimators = [50, 100, 150]\n",
        "max_depths = [50, 75, 100]\n",
        "\n",
        "i = 0\n",
        "for estimator in n_estimators:\n",
        "    i += 1\n",
        "    print(i)\n",
        "    for depth in max_depths:\n",
        "        rf = RandomForestRegressor(max_depth=depth, n_estimators=estimator, random_state=42)\n",
        "        rf.fit(X_train_norm, y_train)\n",
        "        y_pred = rf.predict(X_val_norm)\n",
        "        mse = mean_squared_error(y_val, y_pred)\n",
        "\n",
        "        best_rf = rf\n",
        "\n",
        "        # 최적의 모델인지 확인\n",
        "        if mse < best_rf_mse:\n",
        "            best_rf = rf\n",
        "            best_rf_mse = mse\n",
        "            best_rf_hyperparameter = {'n_estimators': estimator,\n",
        "                                      'max_depth': depth}\n",
        "\n",
        "# 해당 hyperparameter 출력\n",
        "print(\"Best Hyperparameters for Random Forest with Varying Hyperparameters: \", best_rf_hyperparameter)\n",
        "print(\"Best MSE for Random Forest with Varying Hyperparameters: \", best_rf_mse)\n",
        "\n",
        "# Regression 결과 시각화\n",
        "y_pred = best_rf.predict(X_val_norm)\n",
        "\n",
        "plt.figure(figsize=(8, 6))\n",
        "plt.scatter(y_val, y_pred, color='blue', label='Predictions')\n",
        "plt.plot([min(y_val), max(y_val)], [min(y_val), max(y_val)], color='red', linestyle='--', linewidth=2,\n",
        "         label='Perfect Fit')\n",
        "plt.xlabel('Actual Values')\n",
        "plt.ylabel('Predicted Values')\n",
        "plt.title('Decision Tree Regression')\n",
        "plt.legend()\n",
        "plt.show()"
      ],
      "metadata": {
        "colab": {
          "base_uri": "https://localhost:8080/",
          "height": 1000
        },
        "id": "2jjKqyK0Aqbb",
        "outputId": "d8ca0f14-00de-4631-8703-48d3dc858f0b"
      },
      "execution_count": null,
      "outputs": [
        {
          "output_type": "stream",
          "name": "stdout",
          "text": [
            "1\n",
            "2\n",
            "3\n",
            "Best Hyperparameters for Random Forest with Varying Hyperparameters:  {'n_estimators': 150, 'max_depth': 50}\n",
            "Best MSE for Random Forest with Varying Hyperparameters:  830588272043.0474\n"
          ]
        },
        {
          "output_type": "stream",
          "name": "stderr",
          "text": [
            "WARNING:matplotlib.font_manager:findfont: Font family 'GULIM' not found.\n",
            "WARNING:matplotlib.font_manager:findfont: Font family 'GULIM' not found.\n",
            "WARNING:matplotlib.font_manager:findfont: Font family 'GULIM' not found.\n",
            "WARNING:matplotlib.font_manager:findfont: Font family 'GULIM' not found.\n",
            "WARNING:matplotlib.font_manager:findfont: Font family 'GULIM' not found.\n",
            "WARNING:matplotlib.font_manager:findfont: Font family 'GULIM' not found.\n",
            "WARNING:matplotlib.font_manager:findfont: Font family 'GULIM' not found.\n",
            "WARNING:matplotlib.font_manager:findfont: Font family 'GULIM' not found.\n",
            "WARNING:matplotlib.font_manager:findfont: Font family 'GULIM' not found.\n",
            "WARNING:matplotlib.font_manager:findfont: Font family 'GULIM' not found.\n",
            "WARNING:matplotlib.font_manager:findfont: Font family 'GULIM' not found.\n",
            "WARNING:matplotlib.font_manager:findfont: Font family 'GULIM' not found.\n",
            "WARNING:matplotlib.font_manager:findfont: Font family 'GULIM' not found.\n",
            "WARNING:matplotlib.font_manager:findfont: Font family 'GULIM' not found.\n",
            "WARNING:matplotlib.font_manager:findfont: Font family 'GULIM' not found.\n",
            "WARNING:matplotlib.font_manager:findfont: Font family 'GULIM' not found.\n",
            "WARNING:matplotlib.font_manager:findfont: Font family 'GULIM' not found.\n",
            "WARNING:matplotlib.font_manager:findfont: Font family 'GULIM' not found.\n",
            "WARNING:matplotlib.font_manager:findfont: Font family 'GULIM' not found.\n",
            "WARNING:matplotlib.font_manager:findfont: Font family 'GULIM' not found.\n",
            "WARNING:matplotlib.font_manager:findfont: Font family 'GULIM' not found.\n",
            "WARNING:matplotlib.font_manager:findfont: Font family 'GULIM' not found.\n",
            "WARNING:matplotlib.font_manager:findfont: Font family 'GULIM' not found.\n",
            "WARNING:matplotlib.font_manager:findfont: Font family 'GULIM' not found.\n",
            "WARNING:matplotlib.font_manager:findfont: Font family 'GULIM' not found.\n",
            "WARNING:matplotlib.font_manager:findfont: Font family 'GULIM' not found.\n",
            "WARNING:matplotlib.font_manager:findfont: Font family 'GULIM' not found.\n",
            "WARNING:matplotlib.font_manager:findfont: Font family 'GULIM' not found.\n",
            "WARNING:matplotlib.font_manager:findfont: Font family 'GULIM' not found.\n",
            "WARNING:matplotlib.font_manager:findfont: Font family 'GULIM' not found.\n",
            "WARNING:matplotlib.font_manager:findfont: Font family 'GULIM' not found.\n",
            "WARNING:matplotlib.font_manager:findfont: Font family 'GULIM' not found.\n",
            "WARNING:matplotlib.font_manager:findfont: Font family 'GULIM' not found.\n",
            "WARNING:matplotlib.font_manager:findfont: Font family 'GULIM' not found.\n",
            "WARNING:matplotlib.font_manager:findfont: Font family 'GULIM' not found.\n",
            "WARNING:matplotlib.font_manager:findfont: Font family 'GULIM' not found.\n",
            "WARNING:matplotlib.font_manager:findfont: Font family 'GULIM' not found.\n",
            "WARNING:matplotlib.font_manager:findfont: Font family 'GULIM' not found.\n",
            "WARNING:matplotlib.font_manager:findfont: Font family 'GULIM' not found.\n",
            "WARNING:matplotlib.font_manager:findfont: Font family 'GULIM' not found.\n",
            "WARNING:matplotlib.font_manager:findfont: Font family 'GULIM' not found.\n",
            "WARNING:matplotlib.font_manager:findfont: Font family 'GULIM' not found.\n",
            "WARNING:matplotlib.font_manager:findfont: Font family 'GULIM' not found.\n",
            "WARNING:matplotlib.font_manager:findfont: Font family 'GULIM' not found.\n",
            "WARNING:matplotlib.font_manager:findfont: Font family 'GULIM' not found.\n",
            "WARNING:matplotlib.font_manager:findfont: Font family 'GULIM' not found.\n",
            "WARNING:matplotlib.font_manager:findfont: Font family 'GULIM' not found.\n",
            "WARNING:matplotlib.font_manager:findfont: Font family 'GULIM' not found.\n",
            "WARNING:matplotlib.font_manager:findfont: Font family 'GULIM' not found.\n",
            "WARNING:matplotlib.font_manager:findfont: Font family 'GULIM' not found.\n",
            "WARNING:matplotlib.font_manager:findfont: Font family 'GULIM' not found.\n",
            "WARNING:matplotlib.font_manager:findfont: Font family 'GULIM' not found.\n",
            "WARNING:matplotlib.font_manager:findfont: Font family 'GULIM' not found.\n",
            "WARNING:matplotlib.font_manager:findfont: Font family 'GULIM' not found.\n",
            "WARNING:matplotlib.font_manager:findfont: Font family 'GULIM' not found.\n",
            "WARNING:matplotlib.font_manager:findfont: Font family 'GULIM' not found.\n",
            "WARNING:matplotlib.font_manager:findfont: Font family 'GULIM' not found.\n",
            "WARNING:matplotlib.font_manager:findfont: Font family 'GULIM' not found.\n",
            "WARNING:matplotlib.font_manager:findfont: Font family 'GULIM' not found.\n",
            "WARNING:matplotlib.font_manager:findfont: Font family 'GULIM' not found.\n",
            "WARNING:matplotlib.font_manager:findfont: Font family 'GULIM' not found.\n",
            "WARNING:matplotlib.font_manager:findfont: Font family 'GULIM' not found.\n",
            "WARNING:matplotlib.font_manager:findfont: Font family 'GULIM' not found.\n",
            "WARNING:matplotlib.font_manager:findfont: Font family 'GULIM' not found.\n",
            "WARNING:matplotlib.font_manager:findfont: Font family 'GULIM' not found.\n",
            "WARNING:matplotlib.font_manager:findfont: Font family 'GULIM' not found.\n",
            "WARNING:matplotlib.font_manager:findfont: Font family 'GULIM' not found.\n",
            "WARNING:matplotlib.font_manager:findfont: Font family 'GULIM' not found.\n",
            "WARNING:matplotlib.font_manager:findfont: Font family 'GULIM' not found.\n",
            "WARNING:matplotlib.font_manager:findfont: Font family 'GULIM' not found.\n",
            "WARNING:matplotlib.font_manager:findfont: Font family 'GULIM' not found.\n",
            "WARNING:matplotlib.font_manager:findfont: Font family 'GULIM' not found.\n",
            "WARNING:matplotlib.font_manager:findfont: Font family 'GULIM' not found.\n"
          ]
        },
        {
          "output_type": "display_data",
          "data": {
            "text/plain": [
              "<Figure size 800x600 with 1 Axes>"
            ],
            "image/png": "[encoded data removed]"
          },
          "metadata": {}
        }
      ]
    },
    {
      "cell_type": "code",
      "source": [
        "best_ad = None\n",
        "best_ad_mse = 1e20\n",
        "best_ad_hyperparameter = None\n",
        "n_estimators = [50, 100, 150]\n",
        "max_depths = [5, 10, 30]\n",
        "\n",
        "i = 0\n",
        "for depth in max_depths:\n",
        "    i += 1\n",
        "    print(i)\n",
        "    for estimator in n_estimators:\n",
        "        base_estimator = DecisionTreeRegressor(max_depth=depth)\n",
        "        ad = AdaBoostRegressor(base_estimator, n_estimators=estimator)\n",
        "        ad.fit(X_train_norm, y_train)\n",
        "        y_pred = ad.predict(X_val_norm)\n",
        "        mse = mean_squared_error(y_val, y_pred)\n",
        "\n",
        "        best_ad = ad\n",
        "\n",
        "        # 최적의 모델인지 확인\n",
        "        if mse < best_ad_mse:\n",
        "            best_ad = ad\n",
        "            best_ad_mse = mse\n",
        "            best_ad_hyperparameter = {'n_estimators': estimator,\n",
        "                                      'max_depth': depth}\n",
        "\n",
        "# 해당 hyperparameter 출력\n",
        "print(\"Best Hyperparameters for Adaboost with Hyperparameters: \", best_ad_hyperparameter)\n",
        "print(\"Best MSE for Adaboost with Hyperparameters: \", best_ad_mse)\n",
        "\n",
        "# Regression 결과 시각화\n",
        "y_pred = best_ad.predict(X_val_norm)\n",
        "\n",
        "plt.figure(figsize=(8, 6))\n",
        "plt.scatter(y_val, y_pred, color='blue', label='Predictions')\n",
        "plt.plot([min(y_val), max(y_val)], [min(y_val), max(y_val)], color='red', linestyle='--', linewidth=2,\n",
        "         label='Perfect Fit')\n",
        "plt.xlabel('Actual Values')\n",
        "plt.ylabel('Predicted Values')\n",
        "plt.title('Decision Tree Regression')\n",
        "plt.legend()\n",
        "plt.show()"
      ],
      "metadata": {
        "colab": {
          "base_uri": "https://localhost:8080/",
          "height": 1000
        },
        "id": "bemH_UJ3Ar6V",
        "outputId": "2d27c2a6-1973-4691-8596-365057916c28"
      },
      "execution_count": null,
      "outputs": [
        {
          "output_type": "stream",
          "name": "stdout",
          "text": [
            "1\n",
            "2\n",
            "3\n",
            "Best Hyperparameters for Adaboost with Hyperparameters:  {'n_estimators': 150, 'max_depth': 30}\n",
            "Best MSE for Adaboost with Hyperparameters:  814319583597.3599\n"
          ]
        },
        {
          "output_type": "stream",
          "name": "stderr",
          "text": [
            "WARNING:matplotlib.font_manager:findfont: Font family 'GULIM' not found.\n",
            "WARNING:matplotlib.font_manager:findfont: Font family 'GULIM' not found.\n",
            "WARNING:matplotlib.font_manager:findfont: Font family 'GULIM' not found.\n",
            "WARNING:matplotlib.font_manager:findfont: Font family 'GULIM' not found.\n",
            "WARNING:matplotlib.font_manager:findfont: Font family 'GULIM' not found.\n",
            "WARNING:matplotlib.font_manager:findfont: Font family 'GULIM' not found.\n",
            "WARNING:matplotlib.font_manager:findfont: Font family 'GULIM' not found.\n",
            "WARNING:matplotlib.font_manager:findfont: Font family 'GULIM' not found.\n",
            "WARNING:matplotlib.font_manager:findfont: Font family 'GULIM' not found.\n",
            "WARNING:matplotlib.font_manager:findfont: Font family 'GULIM' not found.\n",
            "WARNING:matplotlib.font_manager:findfont: Font family 'GULIM' not found.\n",
            "WARNING:matplotlib.font_manager:findfont: Font family 'GULIM' not found.\n",
            "WARNING:matplotlib.font_manager:findfont: Font family 'GULIM' not found.\n",
            "WARNING:matplotlib.font_manager:findfont: Font family 'GULIM' not found.\n",
            "WARNING:matplotlib.font_manager:findfont: Font family 'GULIM' not found.\n",
            "WARNING:matplotlib.font_manager:findfont: Font family 'GULIM' not found.\n",
            "WARNING:matplotlib.font_manager:findfont: Font family 'GULIM' not found.\n",
            "WARNING:matplotlib.font_manager:findfont: Font family 'GULIM' not found.\n",
            "WARNING:matplotlib.font_manager:findfont: Font family 'GULIM' not found.\n",
            "WARNING:matplotlib.font_manager:findfont: Font family 'GULIM' not found.\n",
            "WARNING:matplotlib.font_manager:findfont: Font family 'GULIM' not found.\n",
            "WARNING:matplotlib.font_manager:findfont: Font family 'GULIM' not found.\n",
            "WARNING:matplotlib.font_manager:findfont: Font family 'GULIM' not found.\n",
            "WARNING:matplotlib.font_manager:findfont: Font family 'GULIM' not found.\n",
            "WARNING:matplotlib.font_manager:findfont: Font family 'GULIM' not found.\n",
            "WARNING:matplotlib.font_manager:findfont: Font family 'GULIM' not found.\n",
            "WARNING:matplotlib.font_manager:findfont: Font family 'GULIM' not found.\n",
            "WARNING:matplotlib.font_manager:findfont: Font family 'GULIM' not found.\n",
            "WARNING:matplotlib.font_manager:findfont: Font family 'GULIM' not found.\n",
            "WARNING:matplotlib.font_manager:findfont: Font family 'GULIM' not found.\n",
            "WARNING:matplotlib.font_manager:findfont: Font family 'GULIM' not found.\n",
            "WARNING:matplotlib.font_manager:findfont: Font family 'GULIM' not found.\n",
            "WARNING:matplotlib.font_manager:findfont: Font family 'GULIM' not found.\n",
            "WARNING:matplotlib.font_manager:findfont: Font family 'GULIM' not found.\n",
            "WARNING:matplotlib.font_manager:findfont: Font family 'GULIM' not found.\n",
            "WARNING:matplotlib.font_manager:findfont: Font family 'GULIM' not found.\n",
            "WARNING:matplotlib.font_manager:findfont: Font family 'GULIM' not found.\n",
            "WARNING:matplotlib.font_manager:findfont: Font family 'GULIM' not found.\n",
            "WARNING:matplotlib.font_manager:findfont: Font family 'GULIM' not found.\n",
            "WARNING:matplotlib.font_manager:findfont: Font family 'GULIM' not found.\n",
            "WARNING:matplotlib.font_manager:findfont: Font family 'GULIM' not found.\n",
            "WARNING:matplotlib.font_manager:findfont: Font family 'GULIM' not found.\n",
            "WARNING:matplotlib.font_manager:findfont: Font family 'GULIM' not found.\n",
            "WARNING:matplotlib.font_manager:findfont: Font family 'GULIM' not found.\n",
            "WARNING:matplotlib.font_manager:findfont: Font family 'GULIM' not found.\n",
            "WARNING:matplotlib.font_manager:findfont: Font family 'GULIM' not found.\n",
            "WARNING:matplotlib.font_manager:findfont: Font family 'GULIM' not found.\n",
            "WARNING:matplotlib.font_manager:findfont: Font family 'GULIM' not found.\n",
            "WARNING:matplotlib.font_manager:findfont: Font family 'GULIM' not found.\n",
            "WARNING:matplotlib.font_manager:findfont: Font family 'GULIM' not found.\n",
            "WARNING:matplotlib.font_manager:findfont: Font family 'GULIM' not found.\n",
            "WARNING:matplotlib.font_manager:findfont: Font family 'GULIM' not found.\n",
            "WARNING:matplotlib.font_manager:findfont: Font family 'GULIM' not found.\n",
            "WARNING:matplotlib.font_manager:findfont: Font family 'GULIM' not found.\n",
            "WARNING:matplotlib.font_manager:findfont: Font family 'GULIM' not found.\n",
            "WARNING:matplotlib.font_manager:findfont: Font family 'GULIM' not found.\n",
            "WARNING:matplotlib.font_manager:findfont: Font family 'GULIM' not found.\n",
            "WARNING:matplotlib.font_manager:findfont: Font family 'GULIM' not found.\n",
            "WARNING:matplotlib.font_manager:findfont: Font family 'GULIM' not found.\n",
            "WARNING:matplotlib.font_manager:findfont: Font family 'GULIM' not found.\n",
            "WARNING:matplotlib.font_manager:findfont: Font family 'GULIM' not found.\n",
            "WARNING:matplotlib.font_manager:findfont: Font family 'GULIM' not found.\n",
            "WARNING:matplotlib.font_manager:findfont: Font family 'GULIM' not found.\n",
            "WARNING:matplotlib.font_manager:findfont: Font family 'GULIM' not found.\n",
            "WARNING:matplotlib.font_manager:findfont: Font family 'GULIM' not found.\n",
            "WARNING:matplotlib.font_manager:findfont: Font family 'GULIM' not found.\n",
            "WARNING:matplotlib.font_manager:findfont: Font family 'GULIM' not found.\n",
            "WARNING:matplotlib.font_manager:findfont: Font family 'GULIM' not found.\n",
            "WARNING:matplotlib.font_manager:findfont: Font family 'GULIM' not found.\n",
            "WARNING:matplotlib.font_manager:findfont: Font family 'GULIM' not found.\n",
            "WARNING:matplotlib.font_manager:findfont: Font family 'GULIM' not found.\n",
            "WARNING:matplotlib.font_manager:findfont: Font family 'GULIM' not found.\n",
            "WARNING:matplotlib.font_manager:findfont: Font family 'GULIM' not found.\n"
          ]
        },
        {
          "output_type": "display_data",
          "data": {
            "text/plain": [
              "<Figure size 800x600 with 1 Axes>"
            ],
            "image/png": "[encoded data removed]"
          },
          "metadata": {}
        }
      ]
    },
    {
      "cell_type": "markdown",
      "source": [
        "# 모델성능 체크"
      ],
      "metadata": {
        "id": "7LXCV0K6AuL8"
      }
    },
    {
      "cell_type": "code",
      "source": [
        "dt_pred = best_dt.predict(X_val_norm)\n",
        "rf_pred = best_rf.predict(X_val_norm)\n",
        "ad_pred = best_ad.predict(X_val_norm)\n",
        "\n",
        "model_dict = {'DT': dt_pred, 'RF': rf_pred, 'AD': ad_pred}\n",
        "\n",
        "for _, name in enumerate(model_dict):\n",
        "    mse = mean_squared_error(y_val, model_dict[name])\n",
        "    mae = mean_absolute_error(y_val, model_dict[name])\n",
        "    r2 = r2_score(y_val, model_dict[name])\n",
        "    print(name)\n",
        "    print(f'MSE: {mse}')\n",
        "    print(f'MAE: {mae}')\n",
        "    print(f'R^2: {r2}')"
      ],
      "metadata": {
        "colab": {
          "base_uri": "https://localhost:8080/"
        },
        "id": "fj8aV6etAvMO",
        "outputId": "3e3c594e-ed02-4bcb-9eae-c8fd17389964"
      },
      "execution_count": null,
      "outputs": [
        {
          "output_type": "stream",
          "name": "stdout",
          "text": [
            "DT\n",
            "MSE: 1752789294817.3323\n",
            "MAE: 877736.6185216652\n",
            "R^2: 0.9596932546677633\n",
            "RF\n",
            "MSE: 830588272043.0474\n",
            "MAE: 584609.5157179269\n",
            "R^2: 0.9808999803592077\n",
            "AD\n",
            "MSE: 814319583597.3599\n",
            "MAE: 576971.0987398329\n",
            "R^2: 0.9812740914312051\n"
          ]
        }
      ]
    },
    {
      "cell_type": "markdown",
      "source": [
        "# Test 이산형 결측치처리 파트"
      ],
      "metadata": {
        "id": "8u4WdNXNAy7n"
      }
    },
    {
      "cell_type": "code",
      "source": [
        "df_1 = df_test.copy()\n",
        "# df_1 = test.copy()\n",
        "\n",
        "df_1 = df_1.drop(df_1[df_1['FUELNM'].isna() == True].index)\n",
        "df_1 = df_1.drop(df_1[df_1['OWNECLASNM'].isna() == True].index)\n",
        "df_1 = df_1.drop(df_1[df_1['CARREGIYMD'].isna() == True].index)\n",
        "\n",
        "# df_1.loc[df_1['OWNECLASNM'].isna(), 'OWNECLASNM'] = '기타'\n",
        "condition = (df_1['OWNECLASNM'] == '개인') & (df_1['USEUSENM'].isna())\n",
        "df_1.loc[condition, 'USEUSENM'] = '자가'\n",
        "df_1.loc[df_1['USEUSENM'].isna(), 'USEUSENM'] = '기타'"
      ],
      "metadata": {
        "id": "AwOeKum_Azz3"
      },
      "execution_count": null,
      "outputs": []
    },
    {
      "cell_type": "markdown",
      "source": [
        "# Test 연속형 결측치처리 파트"
      ],
      "metadata": {
        "id": "sNLwgsvZA12J"
      }
    },
    {
      "cell_type": "code",
      "source": [
        "df_1['NEWCARPRIC'] = df_1['NEWCARPRIC'].replace(0, np.nan)\n",
        "df_1['NEWCARPRIC'] = df_1['NEWCARPRIC'].replace(1, np.nan)\n",
        "df_1['NEWCARPRIC'] = df_1['NEWCARPRIC'].apply(lambda x: np.nan if x < 1000 else x)"
      ],
      "metadata": {
        "id": "_TNMjj_4A09L"
      },
      "execution_count": null,
      "outputs": []
    },
    {
      "cell_type": "code",
      "source": [
        "model = df_1['MJ_MODEL_KEY'].astype(str)+\"-\"+df_1['DT_MODEL_KEY'].astype(str)\n",
        "df_1.insert(15, 'MODEL', model)\n",
        "# 모델 별 평균 가격\n",
        "price_model = df_1.groupby('MODEL')['NEWCARPRIC'].median()\n",
        "price_model2 = df_1.groupby('MODEL')['SHIPPING_PRICE'].median()\n",
        "price_model3 = df_1.groupby('MODEL')['NC_GRADE_PRICE'].median()\n",
        "\n",
        "price_model = dict(price_model)\n",
        "df_1['NEWCARPRIC'] = df_1['NEWCARPRIC'].fillna(df_1.MODEL.map(price_model))\n",
        "price_model2 = dict(price_model2)\n",
        "df_1['SHIPPING_PRICE'] = df_1['SHIPPING_PRICE'].fillna(df_1.MODEL.map(price_model2))\n",
        "price_model3 = dict(price_model3)\n",
        "df_1['NC_GRADE_PRICE'] = df_1['NC_GRADE_PRICE'].fillna(df_1.MODEL.map(price_model3))"
      ],
      "metadata": {
        "id": "Xyd6tvlYA4jn"
      },
      "execution_count": null,
      "outputs": []
    },
    {
      "cell_type": "code",
      "source": [
        "for price in price_list:\n",
        "    mode = df_1[price].mode()[0]\n",
        "    df_1[price] = df_1[price].fillna(mode)"
      ],
      "metadata": {
        "id": "wDovaEDKA4hR"
      },
      "execution_count": null,
      "outputs": []
    },
    {
      "cell_type": "markdown",
      "source": [
        "# Test 이상치제거 파트"
      ],
      "metadata": {
        "id": "a0373GbbA76S"
      }
    },
    {
      "cell_type": "code",
      "source": [
        "df_2 = df_1.copy()\n",
        "df_2['NEWCARPRIC'] = winsorize(df_2['NEWCARPRIC'], limits=[0.001, 0.001])"
      ],
      "metadata": {
        "id": "LxPkeNIaA8t4"
      },
      "execution_count": null,
      "outputs": []
    },
    {
      "cell_type": "markdown",
      "source": [
        "# Test 파생변수 파트"
      ],
      "metadata": {
        "id": "WJDWxiPgA-yi"
      }
    },
    {
      "cell_type": "code",
      "source": [
        "df_3 = df_2.copy()\n",
        "\n",
        "# SUCCYMD(낙찰일자) - CARREGIYMD(차량등록일) 을 새로운 변수 Days로 저장\n",
        "df_3['SUCCYMD'] = pd.to_datetime(df_3['SUCCYMD'], format='%Y%m%d')\n",
        "df_3['CARREGIYMD'] = pd.to_datetime(df_3['CARREGIYMD'], format='%Y%m%d')\n",
        "df_3['Days'] = (df_3['SUCCYMD'] - df_3['CARREGIYMD']).dt.days.astype(int)"
      ],
      "metadata": {
        "id": "EoQXqxXmBAX1"
      },
      "execution_count": null,
      "outputs": []
    },
    {
      "cell_type": "code",
      "source": [
        "outer_frame = [\n",
        "    'BONET', 'FRONT_LEFT_FENDER', 'FRONT_RIGHT_FENDER', 'FRONT_LEFT_DOOR', 'FRONT_RIGHT_DOOR',\n",
        "    'BACK_LEFT_DOOR', 'BACK_RIGHT_DOOR', 'TRUNK', 'FRONT_PANNEL', 'LEFT_STEP', 'RIGHT_STEP',\n",
        "    'LEFT_FILER_A', 'RIGHT_FILER_A', 'LEFT_FILER_B', 'RIGHT_FILER_B', 'LEFT_FILER_C', 'RIGHT_FILER_C',\n",
        "    'LEFT_REAR_FENDER', 'RIGHT_REAR_FENDER', 'BACK_PANEL1', 'LEFT_QUARTER', 'RIGHT_QUARTER',\n",
        "    'BACK_PANEL2', 'LEFT_CORNER_PANEL', 'RIGHT_CORNER_PANEL', 'LEFT_SKIRT_PANEL', 'RIGHT_SKIRT_PANEL'\n",
        "]\n",
        "\n",
        "# Outer_frame에 해당하는 값이 1이 하나라도 있으면 1, 없으면 0으로 설정\n",
        "df_3['Accident'] = df_3[outer_frame].max(axis=1)"
      ],
      "metadata": {
        "id": "cgNLWE7uBCB0"
      },
      "execution_count": null,
      "outputs": []
    },
    {
      "cell_type": "code",
      "source": [
        "# ##사고 유형 분류\n",
        "# 외판부위 1랭크\n",
        "outer_panels_rank1 = ['BONET', 'FRONT_LEFT_FENDER', 'FRONT_RIGHT_FENDER', 'FRONT_LEFT_DOOR', 'FRONT_RIGHT_DOOR',\n",
        "                      'BACK_LEFT_DOOR', 'BACK_RIGHT_DOOR', 'TRUNK', 'FRONT_PANNEL']\n",
        "\n",
        "# 외판부위 2랭크\n",
        "outer_panels_rank2 = ['LEFT_REAR_FENDER', 'RIGHT_REAR_FENDER', 'LEFT_QUARTER', 'RIGHT_QUARTER']\n",
        "\n",
        "# 주요골격 A랭크\n",
        "main_frame_rankA = ['FRONT_PANNEL', 'TRUNK_FLOOR', 'LEFT_INSIDE_PANEL', 'RIGHT_INSIDE_PANEL']\n",
        "\n",
        "# 주요골격 B랭크\n",
        "main_frame_rankB = ['SIDE_MEMBER_FRAME', 'LEFT_WHEEL_HOUSE', 'RIGHT_WHEEL_HOUSE', 'LEFT_FILER_A', 'RIGHT_FILER_A',\n",
        "                    'LEFT_FILER_B', 'RIGHT_FILER_B', 'LEFT_FILER_C', 'RIGHT_FILER_C']\n",
        "\n",
        "# 주요골격 C랭크\n",
        "main_frame_rankC = ['DASH_PANEL', 'FLOOR_PANEL']\n",
        "\n",
        "# 외판, 골격 세분화\n",
        "df_3['outer_1'] = df_3[outer_panels_rank1].sum(axis=1)\n",
        "df_3['outer_2'] = df_3[outer_panels_rank2].sum(axis=1)\n",
        "df_3['main_A'] = df_3[main_frame_rankA].sum(axis=1)\n",
        "df_3['main_B'] = df_3[main_frame_rankB].sum(axis=1)\n",
        "df_3['main_C'] = df_3[main_frame_rankC].sum(axis=1)"
      ],
      "metadata": {
        "id": "ZtpexkXFBDQu"
      },
      "execution_count": null,
      "outputs": []
    },
    {
      "cell_type": "code",
      "source": [
        "selected_columns = ['MJ_GRADE_KEY', 'DT_GRADE_KEY', 'NC_GRADE_KEY']\n",
        "\n",
        "for col in selected_columns:\n",
        "    # 'SUCCPRIC'의 평균을 계산하여 새로운 열 생성\n",
        "    mean_suuccpric_by_col = df_3.groupby(col)['SUCCPRIC'].mean().reset_index()\n",
        "    mean_suuccpric_by_col.columns = [col, f'SUCCPRIC_MEAN_{col}']\n",
        "\n",
        "    # 각 열을 기준으로 평균값을 매핑하여 원래 데이터프레임에 추가\n",
        "    df_3 = pd.merge(df_3, mean_suuccpric_by_col, on=col, how='left')\n",
        "\n",
        "# 구간을 정의하고 각 카테고리를 구간에 따라 인코딩\n",
        "bins = [0, 12000000, 24000000, 36000000, 48000000, np.inf]\n",
        "labels_MJ = [0, 1, 2, 3, 4]\n",
        "df_3['SUCCPRIC_MEAN_MJ_GRADE_KEY'] = pd.cut(df_3['SUCCPRIC_MEAN_MJ_GRADE_KEY'], bins=bins, labels=labels_MJ)\n",
        "labels_DT = [0, 1, 2, 3, 4]\n",
        "df_3['SUCCPRIC_MEAN_DT_GRADE_KEY'] = pd.cut(df_3['SUCCPRIC_MEAN_DT_GRADE_KEY'], bins=bins, labels=labels_DT)\n",
        "labels_NC = [0, 1, 2, 3, 4]\n",
        "df_3['SUCCPRIC_MEAN_NC_GRADE_KEY'] = pd.cut(df_3['SUCCPRIC_MEAN_NC_GRADE_KEY'], bins=bins, labels=labels_NC)"
      ],
      "metadata": {
        "id": "Edc5rZNjBEi0"
      },
      "execution_count": null,
      "outputs": []
    },
    {
      "cell_type": "markdown",
      "source": [
        "# Test 범주형인코딩 파트\n"
      ],
      "metadata": {
        "id": "ElVeQ5bABGuH"
      }
    },
    {
      "cell_type": "code",
      "source": [
        "df_4 = df_3.copy()\n",
        "\n",
        "selected_columns = ['FUELNM', 'USEUSENM', 'OWNECLASNM']\n",
        "\n",
        "for column in selected_columns:\n",
        "    le=label_encoders[column]\n",
        "    df_4[column] = [label if label in le.classes_ else 'unknown' for label in df_4[column]]\n",
        "    le.classes_ = np.append(le.classes_, 'unknown')  # 'unknown' 레이블 추가\n",
        "    df_4[column] = le.transform(df_4[column])\n",
        "\n",
        "onehot_list = ['YEARCHK', 'INNEEXPOCLASCD_YN']\n",
        "df_4 = pd.get_dummies(df_4, columns=onehot_list)\n",
        "\n",
        "missnm_order = ['M/T', 'CVT', 'A/T']\n",
        "encoder = OrdinalEncoder(categories=[missnm_order])\n",
        "df_4['MISSNM'] = encoder.fit_transform(df_4[['MISSNM']])\n",
        "\n",
        "color_order = ['B', 'C', 'A', 'D', 'F']\n",
        "encoder = OrdinalEncoder(categories=[color_order])\n",
        "df_4['COLOR'] = encoder.fit_transform(df_4[['COLOR']])\n",
        "\n",
        "df_4 = df_4.drop(columns=['SUCCYMD', 'CARNM', 'CHASNO', 'CARREGIYMD', 'YEAR'])"
      ],
      "metadata": {
        "id": "LP5jyBRHBHc4"
      },
      "execution_count": null,
      "outputs": []
    },
    {
      "cell_type": "code",
      "source": [
        "df_4['FRONT_FENDER'] = df_4['FRONT_LEFT_FENDER'] + df_4['FRONT_RIGHT_FENDER']\n",
        "df_4['FRONT_DOOR'] = df_4['FRONT_LEFT_DOOR'] + df_4['FRONT_RIGHT_DOOR']\n",
        "df_4['BACK_DOOR'] = df_4['FRONT_LEFT_DOOR'] + df_4['FRONT_RIGHT_DOOR']\n",
        "df_4 = df_4.drop(['FRONT_LEFT_FENDER', 'FRONT_RIGHT_FENDER', 'FRONT_LEFT_DOOR', 'FRONT_RIGHT_DOOR', 'BACK_LEFT_DOOR',\n",
        "                  'BACK_RIGHT_DOOR'], axis=1)\n",
        "\n",
        "new_one_hot_list = ['SKIRT_PANEL', 'REAR_INSIDE_PANEL_SHEETING', 'STEP', 'FILER_A', 'WHEEL_HOUSE',\n",
        "                    'SIDE_PANEL_SHEETING',\n",
        "                    'INSIDE_SHEETING', 'REAR_WHEEL_HOUSE_SHEETING', 'QUARTER', 'INSIDE_WHEEL_HOUSE', 'REAR_WHEEL_HOUSE',\n",
        "                    'WHEEL_HOUSE_SHEETING', 'REAR_CORNER_PANEL', 'FILER_B', 'FILER_C', 'CORNER_PANEL', 'REAR_FENDER',\n",
        "                    'INSIDE_PANEL', 'SIDE_PANEL']\n",
        "\n",
        "for item in new_one_hot_list:\n",
        "    left_col = f'LEFT_{item}'\n",
        "    right_col = f'RIGHT_{item}'\n",
        "    new_col_name = item\n",
        "\n",
        "    df_4[new_col_name] = df_4[left_col] + df_4[right_col]\n",
        "    df_4 = df_4.drop([left_col, right_col], axis=1)\n",
        "\n",
        "# df_4[new_one_hot_list][df_4[new_one_hot_list]==2]=1"
      ],
      "metadata": {
        "id": "_RtORPTwBKlV"
      },
      "execution_count": null,
      "outputs": []
    },
    {
      "cell_type": "code",
      "source": [
        "to_list=['SUCCPRIC_MEAN_MJ_GRADE_KEY','SUCCPRIC_MEAN_DT_GRADE_KEY','SUCCPRIC_MEAN_NC_GRADE_KEY']\n",
        "for col in to_list:\n",
        "    df_4[col]=df_4[col].astype(int)"
      ],
      "metadata": {
        "id": "f8p10SMSqZEH"
      },
      "execution_count": null,
      "outputs": []
    },
    {
      "cell_type": "code",
      "source": [
        "def map_bool_to_int(value):\n",
        "    return int(value)\n",
        "\n",
        "\n",
        "for column in df_4.columns:\n",
        "    if df_4[column].dtype == bool:\n",
        "        df_4[column] = df_4[column].map(map_bool_to_int)\n",
        "\n",
        "X = df_4.drop(columns='SUCCPRIC')\n",
        "y = df_4['SUCCPRIC']"
      ],
      "metadata": {
        "id": "o-UD-zuuBLu-"
      },
      "execution_count": null,
      "outputs": []
    },
    {
      "cell_type": "markdown",
      "source": [
        "# Test 이산형변수 칼럼통일"
      ],
      "metadata": {
        "id": "jGza5-whBNEc"
      }
    },
    {
      "cell_type": "code",
      "source": [
        "X2 = df_4.drop(columns=['SUCCPRIC'])\n",
        "Y2 = df_4['SUCCPRIC']\n",
        "\n",
        "# train에만 있고 test에 없는 경우, 해당 column name으로 test에 zero columns 추가.\n",
        "X2[list(X_val_norm.columns[X_val_norm.columns.isin(X2) == False])] = 0\n",
        "\n",
        "# test에만 있고 train에는 없는 경우, 해당 column name은 제거.\n",
        "X2 = X2.drop(columns=list(X2.columns[X2.columns.isin(X_val_norm) == False]))\n",
        "X2 = X2[X_val_norm.columns]"
      ],
      "metadata": {
        "id": "m97j6kHOBN75"
      },
      "execution_count": null,
      "outputs": []
    },
    {
      "cell_type": "markdown",
      "source": [
        "# Test 연속형변수 분포통일"
      ],
      "metadata": {
        "id": "KLUbb5p3BPAt"
      }
    },
    {
      "cell_type": "code",
      "source": [
        "# 가지고 있는 cache로 df_test normalize\n",
        "X2.loc[:, continous_list + price_list] = standard_scale_val(X2, continous_list + price_list, scaler)"
      ],
      "metadata": {
        "id": "Q9LWcmzxBQ9S"
      },
      "execution_count": null,
      "outputs": []
    },
    {
      "cell_type": "markdown",
      "source": [
        "# Testset 성능체크"
      ],
      "metadata": {
        "id": "BK8_VLeFBQFJ"
      }
    },
    {
      "cell_type": "code",
      "source": [
        "dt_pred = best_dt.predict(X2)\n",
        "rf_pred = best_rf.predict(X2)\n",
        "ad_pred = best_ad.predict(X2)\n",
        "\n",
        "model_dict = {'DT': dt_pred, 'RF': rf_pred, 'AD': ad_pred}\n",
        "\n",
        "for _, name in enumerate(model_dict):\n",
        "    mse = mean_squared_error(Y2, model_dict[name])\n",
        "    mae = mean_absolute_error(Y2, model_dict[name])\n",
        "    r2 = r2_score(Y2, model_dict[name])\n",
        "    print(name)\n",
        "    print(f'MSE: {mse}')\n",
        "    print(f'MAE: {mae}')\n",
        "    print(f'R^2: {r2}')\n",
        "    print(f'오차율: {np.mean(abs(Y2-model_dict[name])/Y2)*100:.2f} %')"
      ],
      "metadata": {
        "colab": {
          "base_uri": "https://localhost:8080/"
        },
        "id": "ALrD3tOhBTlW",
        "outputId": "488fb5e8-643e-42cd-ddee-33a95f1fbb0f"
      },
      "execution_count": null,
      "outputs": [
        {
          "output_type": "stream",
          "name": "stdout",
          "text": [
            "DT\n",
            "MSE: 1804125000000.0\n",
            "MAE: 816500.0\n",
            "R^2: 0.9384285081646878\n",
            "오차율: 9.94 %\n",
            "RF\n",
            "MSE: 2249654180444.4443\n",
            "MAE: 971646.6666666664\n",
            "R^2: 0.9232234107927605\n",
            "오차율: 12.27 %\n",
            "AD\n",
            "MSE: 1674350000000.0\n",
            "MAE: 1016000.0\n",
            "R^2: 0.9428574919396079\n",
            "오차율: 15.78 %\n"
          ]
        }
      ]
    }
  ]
}